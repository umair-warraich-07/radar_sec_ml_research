{
 "cells": [
  {
   "cell_type": "code",
   "execution_count": 1,
   "metadata": {},
   "outputs": [],
   "source": [
    "import pandas as pd\n",
    "import tensorflow as tf\n",
    "import numpy as np\n",
    "from sklearn.preprocessing import StandardScaler\n",
    "from sklearn.model_selection import train_test_split\n",
    "from sklearn.metrics import accuracy_score, confusion_matrix\n",
    "from keras.models import Sequential\n",
    "from keras.layers import LSTM, Dense\n",
    "import matplotlib.pyplot as plt\n",
    "import seaborn as sns\n",
    "import pygad\n",
    "\n"
   ]
  },
  {
   "cell_type": "code",
   "execution_count": 2,
   "metadata": {},
   "outputs": [],
   "source": [
    "# Load data\n",
    "data = pd.read_csv('processed_Infilteration_2.csv')\n"
   ]
  },
  {
   "cell_type": "code",
   "execution_count": 3,
   "metadata": {},
   "outputs": [],
   "source": [
    "\n",
    "# Separate label and timestamp columns\n",
    "y = data['Label'].values\n",
    "\n",
    "timestamps = data['Timestamp'].values\n",
    "X = data.drop(['Label', 'Timestamp'], axis=1).values\n",
    "\n",
    "# Standardize data\n",
    "scaler = StandardScaler()\n",
    "X = scaler.fit_transform(X)"
   ]
  },
  {
   "cell_type": "code",
   "execution_count": 4,
   "metadata": {},
   "outputs": [
    {
     "name": "stdout",
     "output_type": "stream",
     "text": [
      "(485892, 46)\n",
      "Epoch 1/10\n",
      "15185/15185 [==============================] - 244s 16ms/step - loss: 0.3546 - accuracy: 0.8862\n",
      "Epoch 2/10\n",
      " 9913/15185 [==================>...........] - ETA: 1:22 - loss: 0.3539 - accuracy: 0.8865"
     ]
    }
   ],
   "source": [
    "scaler = StandardScaler()\n",
    "X = scaler.fit_transform(X)\n",
    "X_train, X_test, y_train, y_test = train_test_split(X, y, test_size=0.2, random_state=42)\n",
    "\n",
    "# Define the fitness function\n",
    "def fitness_func(solution, solution_idx):\n",
    "    # Convert the binary vector to a boolean mask\n",
    "    feature_mask = np.array(solution, dtype=bool)\n",
    "    # Select the features using the mask\n",
    "    X_train_selected = X_train[:, feature_mask]\n",
    "    X_test_selected = X_test[:, feature_mask]\n",
    "    # Define the LSTM model\n",
    "    model = Sequential()\n",
    "    print(X_train_selected.shape)  # Debugging line\n",
    "    model.add(LSTM(32, input_shape=(X_train_selected.shape[1],1)))\n",
    "    model.add(Dense(1, activation='sigmoid'))\n",
    "    model.compile(loss='binary_crossentropy', optimizer='adam', metrics=['accuracy'])\n",
    "    # Train the model\n",
    "    model.fit(X_train_selected, y_train, epochs=10, batch_size=32, verbose=1)\n",
    "    # Evaluate the model's accuracy\n",
    "    y_pred = model.predict_classes(X_test_selected)\n",
    "    cm = confusion_matrix(y_test, y_pred)\n",
    "    accuracy = np.trace(cm) / np.sum(cm)\n",
    "    return accuracy\n",
    "\n",
    "# Define the genetic algorithm parameters\n",
    "num_generations = 10\n",
    "num_parents_mating = 4\n",
    "sol_per_pop = 8\n",
    "num_features = X_train.shape[1]\n",
    "mutation_rate = 0.1\n",
    "crossover_prob = 0.5\n",
    "# Initialize the population\n",
    "initial_population = np.random.randint(2, size=(sol_per_pop, num_features)).tolist()\n",
    "\n",
    "# Create the genetic algorithm object\n",
    "ga_instance = pygad.GA(initial_population=initial_population,\n",
    "                       fitness_func=fitness_func,\n",
    "                       num_generations=num_generations,\n",
    "                       num_parents_mating=num_parents_mating,\n",
    "                       sol_per_pop=sol_per_pop,\n",
    "                       num_genes=num_features,\n",
    "                       mutation_percent_genes=mutation_rate*100,\n",
    "                       crossover_probability=crossover_prob,\n",
    "                       suppress_warnings=True)\n",
    "\n",
    "# Evolve the population\n",
    "ga_instance.run()\n",
    "\n",
    "# Get the best solution\n",
    "solution, solution_fitness, solution_idx = ga_instance.best\n",
    "\n"
   ]
  },
  {
   "cell_type": "code",
   "execution_count": null,
   "metadata": {},
   "outputs": [],
   "source": [
    "# Select the features using the best solution\n",
    "feature_mask = np.array(solution, dtype=bool)\n",
    "X_train_selected = X_train[:, feature_mask]\n",
    "X_test_selected = X_test[:, feature_mask]"
   ]
  }
 ],
 "metadata": {
  "kernelspec": {
   "display_name": "final_project",
   "language": "python",
   "name": "python3"
  },
  "language_info": {
   "codemirror_mode": {
    "name": "ipython",
    "version": 3
   },
   "file_extension": ".py",
   "mimetype": "text/x-python",
   "name": "python",
   "nbconvert_exporter": "python",
   "pygments_lexer": "ipython3",
   "version": "3.10.10"
  },
  "orig_nbformat": 4
 },
 "nbformat": 4,
 "nbformat_minor": 2
}
