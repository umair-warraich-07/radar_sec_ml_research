{
 "cells": [
  {
   "cell_type": "code",
   "execution_count": 1,
   "metadata": {},
   "outputs": [],
   "source": [
    "import pandas as pd\n",
    "import numpy as np\n",
    "from sklearn.preprocessing import StandardScaler\n",
    "from sklearn.model_selection import train_test_split\n",
    "from sklearn.metrics import accuracy_score, confusion_matrix\n",
    "from keras.models import Sequential\n",
    "from keras.layers import LSTM, Dense\n",
    "from itertools import combinations\n",
    "import matplotlib.pyplot as plt\n",
    "import seaborn as sns"
   ]
  },
  {
   "cell_type": "code",
   "execution_count": 2,
   "metadata": {},
   "outputs": [],
   "source": [
    "data = pd.read_csv('final_dataset_Infilteration.csv')\n",
    "\n",
    "X = data.drop(['Timestamp', 'Label'], axis=1)\n",
    "y = data['Label']\n",
    "\n",
    "scaler = StandardScaler()\n",
    "X_scaled = scaler.fit_transform(X)\n",
    "\n",
    "X_train, X_test, y_train, y_test = train_test_split(X_scaled, y, test_size=0.2, random_state=42)\n",
    "\n"
   ]
  },
  {
   "cell_type": "code",
   "execution_count": 3,
   "metadata": {},
   "outputs": [],
   "source": [
    "corr_matrix = data.drop(['Timestamp'], axis=1).corr().abs()\n",
    "upper_tri = corr_matrix.where(np.triu(np.ones(corr_matrix.shape), k=1).astype(bool))\n"
   ]
  },
  {
   "cell_type": "code",
   "execution_count": 4,
   "metadata": {},
   "outputs": [
    {
     "name": "stdout",
     "output_type": "stream",
     "text": [
      "Epoch 1/10\n",
      "23460/23460 [==============================] - 161s 7ms/step - loss: 0.4524 - accuracy: 0.8273\n",
      "Epoch 2/10\n",
      "23460/23460 [==============================] - 114s 5ms/step - loss: 0.4483 - accuracy: 0.8274\n",
      "Epoch 3/10\n",
      "23460/23460 [==============================] - 107s 5ms/step - loss: 0.4464 - accuracy: 0.8274\n",
      "Epoch 4/10\n",
      "23460/23460 [==============================] - 89s 4ms/step - loss: 0.4455 - accuracy: 0.8274\n",
      "Epoch 5/10\n",
      "23460/23460 [==============================] - 89s 4ms/step - loss: 0.4450 - accuracy: 0.8273\n",
      "Epoch 6/10\n",
      "23460/23460 [==============================] - 103s 4ms/step - loss: 0.4447 - accuracy: 0.8274\n",
      "Epoch 7/10\n",
      "23460/23460 [==============================] - 105s 4ms/step - loss: 0.4445 - accuracy: 0.8273\n",
      "Epoch 8/10\n",
      "23460/23460 [==============================] - 109s 5ms/step - loss: 0.4443 - accuracy: 0.8273\n",
      "Epoch 9/10\n",
      "23460/23460 [==============================] - 107s 5ms/step - loss: 0.4442 - accuracy: 0.8274\n",
      "Epoch 10/10\n",
      "23460/23460 [==============================] - 101s 4ms/step - loss: 0.4441 - accuracy: 0.8274\n"
     ]
    },
    {
     "ename": "AttributeError",
     "evalue": "'Sequential' object has no attribute 'predict_classes'",
     "output_type": "error",
     "traceback": [
      "\u001b[1;31m---------------------------------------------------------------------------\u001b[0m",
      "\u001b[1;31mAttributeError\u001b[0m                            Traceback (most recent call last)",
      "Cell \u001b[1;32mIn[4], line 30\u001b[0m\n\u001b[0;32m     27\u001b[0m model\u001b[39m.\u001b[39mfit(X_train_subset, y_train, epochs\u001b[39m=\u001b[39m\u001b[39m10\u001b[39m, batch_size\u001b[39m=\u001b[39m\u001b[39m32\u001b[39m, verbose\u001b[39m=\u001b[39m\u001b[39m1\u001b[39m)\n\u001b[0;32m     29\u001b[0m \u001b[39m# Make predictions and calculate accuracy\u001b[39;00m\n\u001b[1;32m---> 30\u001b[0m y_pred \u001b[39m=\u001b[39m model\u001b[39m.\u001b[39;49mpredict_classes(X_test_subset)\n\u001b[0;32m     31\u001b[0m accuracy \u001b[39m=\u001b[39m accuracy_score(y_test, y_pred)\n\u001b[0;32m     32\u001b[0m \u001b[39mprint\u001b[39m(\u001b[39m'\u001b[39m\u001b[39mFeature set:\u001b[39m\u001b[39m'\u001b[39m, feature_set)\n",
      "\u001b[1;31mAttributeError\u001b[0m: 'Sequential' object has no attribute 'predict_classes'"
     ]
    }
   ],
   "source": [
    "# Select top 15 features based on correlation with label\n",
    "best_features_15 = upper_tri.nlargest(15, 'Label')['Label'].index.tolist()\n",
    "\n",
    "# Select top 20 features based on correlation with label\n",
    "best_features_20 = upper_tri.nlargest(20, 'Label')['Label'].index.tolist()\n",
    "\n",
    "# Select top 30 features based on correlation with label\n",
    "best_features_30 = upper_tri.nlargest(30, 'Label')['Label'].index.tolist()\n",
    "\n",
    "# Loop through all feature sets\n",
    "for feature_set in [best_features_15, best_features_20, best_features_30]:\n",
    "\n",
    "    # Convert feature names to indices\n",
    "    feature_indices = [X.columns.get_loc(feature_name) for feature_name in feature_set]\n",
    "    X_train_subset = X_train[:, feature_indices]\n",
    "    X_test_subset = X_test[:, feature_indices]\n",
    "\n",
    "    # Reshape X_train and X_test to match LSTM input shape\n",
    "    X_train_subset = X_train_subset.reshape((X_train_subset.shape[0], 1, X_train_subset.shape[1]))\n",
    "    X_test_subset = X_test_subset.reshape((X_test_subset.shape[0], 1, X_test_subset.shape[1]))\n",
    "\n",
    "    # Create and fit LSTM model\n",
    "    model = Sequential()\n",
    "    model.add(LSTM(50, input_shape=(X_train_subset.shape[1], X_train_subset.shape[2])))\n",
    "    model.add(Dense(1, activation='sigmoid'))\n",
    "    model.compile(loss='binary_crossentropy', optimizer='adam', metrics=['accuracy'])\n",
    "    model.fit(X_train_subset, y_train, epochs=10, batch_size=32, verbose=1)\n"
   ]
  },
  {
   "cell_type": "code",
   "execution_count": 5,
   "metadata": {},
   "outputs": [
    {
     "name": "stdout",
     "output_type": "stream",
     "text": [
      "5865/5865 [==============================] - 22s 4ms/step\n",
      "Feature set: ['Fwd Seg Size Min', 'Fwd Pkt Len Mean', 'Fwd Seg Size Avg', 'Bwd Pkts/s', 'PSH Flag Cnt', 'Pkt Size Avg', 'Fwd Pkt Len Max', 'Pkt Len Mean', 'Fwd URG Flags', 'CWE Flag Count', 'Fwd Pkt Len Std', 'Pkt Len Max', 'Pkt Len Std', 'Fwd IAT Mean', 'Protocol_6']\n",
      "Accuracy: 0.8275149190110827\n"
     ]
    },
    {
     "data": {
      "image/png": "[encoded data removed]",
      "text/plain": [
       "<Figure size 640x480 with 2 Axes>"
      ]
     },
     "metadata": {},
     "output_type": "display_data"
    }
   ],
   "source": [
    "    # Make predictions and calculate accuracy\n",
    "    y_pred_prob = model.predict(X_test_subset)\n",
    "    y_pred = np.round(y_pred_prob)\n",
    "    accuracy = accuracy_score(y_test, y_pred)\n",
    "    print('Feature set:', feature_set)\n",
    "    print('Accuracy:', accuracy)\n",
    "\n",
    "    # Plot confusion matrix\n",
    "    cm = confusion_matrix(y_test, y_pred)\n",
    "    plt.figure()\n",
    "    sns.heatmap(cm, annot=True, cmap='Blues', fmt='g')\n",
    "    plt.xlabel('Predicted label')\n",
    "    plt.ylabel('True label')\n",
    "    plt.title('Confusion matrix')\n",
    "    plt.show()"
   ]
  }
 ],
 "metadata": {
  "kernelspec": {
   "display_name": "Python 3 (ipykernel)",
   "language": "python",
   "name": "python3"
  },
  "language_info": {
   "codemirror_mode": {
    "name": "ipython",
    "version": 3
   },
   "file_extension": ".py",
   "mimetype": "text/x-python",
   "name": "python",
   "nbconvert_exporter": "python",
   "pygments_lexer": "ipython3",
   "version": "3.10.10"
  }
 },
 "nbformat": 4,
 "nbformat_minor": 2
}
