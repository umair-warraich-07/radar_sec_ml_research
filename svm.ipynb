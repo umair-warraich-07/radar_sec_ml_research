{
 "cells": [
  {
   "cell_type": "code",
   "execution_count": 1,
   "metadata": {},
   "outputs": [],
   "source": [
    "import pandas as pd\n",
    "import io\n",
    "import numpy as np\n",
    "import matplotlib.pyplot as plt\n",
    "import seaborn as sns\n",
    "from sklearn.model_selection import train_test_split\n",
    "from sklearn.svm import SVC\n",
    "from sklearn.feature_selection import RFE\n"
   ]
  },
  {
   "cell_type": "code",
   "execution_count": 2,
   "metadata": {},
   "outputs": [],
   "source": [
    "\n",
    "# Load dataset from CSV file\n",
    "data = pd.read_csv('processed_Infilteration_2.csv')\n",
    "data= data.drop('Timestamp',axis=1)\n",
    "\n",
    "# Separate the feature columns from the label column\n",
    "X = data.drop('Label', axis=1)\n",
    "y = data['Label']\n"
   ]
  },
  {
   "cell_type": "code",
   "execution_count": 3,
   "metadata": {},
   "outputs": [],
   "source": [
    "# Split the dataset into training and testing sets\n",
    "X_train, X_test, y_train, y_test = train_test_split(X, y, test_size=0.6, random_state=42)\n"
   ]
  },
  {
   "cell_type": "code",
   "execution_count": 5,
   "metadata": {},
   "outputs": [
    {
     "name": "stdout",
     "output_type": "stream",
     "text": [
      "RFE feature selection progress:\n"
     ]
    }
   ],
   "source": [
    "import time\n",
    "\n",
    "svm = SVC(kernel='linear')\n",
    "num_features = 30\n",
    "step = 20\n",
    "rfe = RFE(estimator=svm, n_features_to_select=num_features, step=step)\n",
    "\n",
    "start_time = time.time()\n",
    "print(\"RFE feature selection progress:\")\n",
    "for i in range(1, num_features+1, step):\n",
    "    rfe.n_features_to_select = i\n",
    "    rfe.fit(X_train, y_train)\n",
    "    selected_features = X_train.columns[rfe.support_]\n",
    "    accuracy = svm.fit(X_train[selected_features], y_train).score(X_test[selected_features], y_test)\n",
    "    elapsed_time = time.time() - start_time\n",
    "    remaining_time = (num_features-i)*elapsed_time/i if i > 0 else 0\n",
    "    print(\"Number of features selected: %d, Accuracy: %.3f, Elapsed time: %.2f s, Remaining time: %.2f s\" % (i, accuracy, elapsed_time, remaining_time))\n",
    "\n",
    "selected_features = X_train.columns[rfe.support_]\n",
    "accuracy = svm.fit(X_train[selected_features], y_train).score(X_test[selected_features], y_test)\n",
    "print(\"Selected Features: %s, Accuracy: %.3f\" % (selected_features.tolist(), accuracy))\n"
   ]
  },
  {
   "cell_type": "code",
   "execution_count": null,
   "metadata": {},
   "outputs": [],
   "source": [
    "# Train a final SVM model using the selected features\n",
    "X_train_selected = X_train[selected_features]\n",
    "X_test_selected = X_test[selected_features]\n",
    "svm_final = SVC(kernel='linear')\n",
    "svm_final.fit(X_train_selected, y_train)\n",
    "\n"
   ]
  },
  {
   "cell_type": "code",
   "execution_count": null,
   "metadata": {},
   "outputs": [],
   "source": [
    "# Create a heatmap of the feature weights\n",
    "coef = svm_final.coef_\n",
    "coef_df = pd.DataFrame(coef, columns=selected_features)\n",
    "sns.heatmap(coef_df, cmap='coolwarm')\n",
    "plt.title('Feature Weights Heatmap')\n",
    "plt.show()"
   ]
  }
 ],
 "metadata": {
  "kernelspec": {
   "display_name": "final_project",
   "language": "python",
   "name": "python3"
  },
  "language_info": {
   "codemirror_mode": {
    "name": "ipython",
    "version": 3
   },
   "file_extension": ".py",
   "mimetype": "text/x-python",
   "name": "python",
   "nbconvert_exporter": "python",
   "pygments_lexer": "ipython3",
   "version": "3.10.10"
  },
  "orig_nbformat": 4
 },
 "nbformat": 4,
 "nbformat_minor": 2
}
