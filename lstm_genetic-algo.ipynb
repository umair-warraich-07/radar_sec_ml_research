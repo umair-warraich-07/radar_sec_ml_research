{
 "cells": [
  {
   "cell_type": "code",
   "execution_count": 10,
   "metadata": {},
   "outputs": [],
   "source": [
    "import pandas as pd\n",
    "import numpy as np\n",
    "from sklearn.preprocessing import StandardScaler\n",
    "from sklearn.model_selection import train_test_split\n",
    "from sklearn.metrics import accuracy_score, confusion_matrix\n",
    "from keras.models import Sequential\n",
    "from keras.layers import LSTM, Dense\n",
    "import matplotlib.pyplot as plt\n",
    "import seaborn as sns\n",
    "from geneticalgorithm2 import geneticalgorithm2 as ga\n",
    "\n"
   ]
  },
  {
   "cell_type": "code",
   "execution_count": 11,
   "metadata": {},
   "outputs": [],
   "source": [
    "# Load data\n",
    "data = pd.read_csv('final_dataset_Infilteration.csv')\n",
    "X = data.drop(['Timestamp', 'Label'], axis=1)\n",
    "y = data['Label']\n",
    "y = y.values\n",
    "\n",
    "\n",
    "# Standardize features\n",
    "scaler = StandardScaler()\n",
    "X_scaled = scaler.fit_transform(X)\n",
    "\n",
    "# Split data into train and test sets\n",
    "X_train, X_test, y_train, y_test = train_test_split(X_scaled, y, test_size=0.2, random_state=42)\n"
   ]
  },
  {
   "cell_type": "code",
   "execution_count": 12,
   "metadata": {},
   "outputs": [],
   "source": [
    "# Define LSTM model\n",
    "def create_model(input_dim):\n",
    "    model = Sequential()\n",
    "    model.add(LSTM(50, input_shape=(1, input_dim)))\n",
    "    model.add(Dense(1, activation='sigmoid'))\n",
    "    model.compile(loss='binary_crossentropy', optimizer='adam', metrics=['accuracy'])\n",
    "    return model"
   ]
  },
  {
   "cell_type": "code",
   "execution_count": 31,
   "metadata": {},
   "outputs": [],
   "source": [
    "\n",
    "# Define fitness function for genetic algorithm\n",
    "def fitness_function(X, y, chromosome):\n",
    "    # Get selected feature indices\n",
    "    feature_indices = [i for i, x in enumerate(chromosome) if x.all() == 1]\n",
    "    X_subset = X[:, feature_indices]\n",
    "\n",
    "    # Reshape data to match LSTM input shape\n",
    "    X_subset = X_subset.reshape((X_subset.shape[0], 1, X_subset.shape[1]))\n",
    "\n",
    "    # Create and fit LSTM model\n",
    "    model = create_model(X_subset.shape[2])\n",
    "    model.fit(X_subset, y, epochs=10, batch_size=32, verbose=0)\n",
    "\n",
    "    # Make predictions and calculate accuracy\n",
    "    y_pred = model.predict_classes(X_subset)\n",
    "    accuracy = accuracy_score(y, y_pred)\n",
    "    if np.all(y == 1):\n",
    "        return 1.0\n",
    "    elif np.all(y == 0):\n",
    "        return 0.0\n",
    "    else:\n",
    "        return accuracy"
   ]
  },
  {
   "cell_type": "code",
   "execution_count": 28,
   "metadata": {},
   "outputs": [
    {
     "name": "stderr",
     "output_type": "stream",
     "text": [
      "d:\\final year project-nids\\copy-dataset\\final_project\\lib\\site-packages\\geneticalgorithm2\\geneticalgorithm2.py:195: UserWarning: crossover_probability is deprecated and will be removed in version 7. Reason: it's old and has no sense\n",
      "  warnings.warn(\n"
     ]
    }
   ],
   "source": [
    "# Define genetic algorithm object\n",
    "dimension = X.shape[1]\n",
    "algorithm_param = {'max_num_iteration': 1000, 'population_size': 100, 'mutation_probability': 0.1, 'elit_ratio': 0.01, 'crossover_probability': 0.5, 'parents_portion': 0.3, 'crossover_type': 'uniform', 'mutation_type': 'uniform_by_center', 'selection_type': 'roulette', 'max_iteration_without_improv': None}\n",
    "model_ga = ga(function=fitness_function, dimension=dimension, variable_type='bool', variable_boundaries=np.array([[0, 1]] * dimension), algorithm_parameters=algorithm_param)"
   ]
  },
  {
   "cell_type": "code",
   "execution_count": 40,
   "metadata": {},
   "outputs": [
    {
     "ename": "TypeError",
     "evalue": "geneticalgorithm2.run() got multiple values for argument 'progress_bar_stream'",
     "output_type": "error",
     "traceback": [
      "\u001b[1;31m---------------------------------------------------------------------------\u001b[0m",
      "\u001b[1;31mTypeError\u001b[0m                                 Traceback (most recent call last)",
      "Cell \u001b[1;32mIn[40], line 2\u001b[0m\n\u001b[0;32m      1\u001b[0m \u001b[39m# Run genetic algorithm\u001b[39;00m\n\u001b[1;32m----> 2\u001b[0m best_chromosome, best_fitness \u001b[39m=\u001b[39m model_ga\u001b[39m.\u001b[39;49mrun(X_train, y_train, np\u001b[39m.\u001b[39;49mall(y_train \u001b[39m==\u001b[39;49m \u001b[39m1\u001b[39;49m), progress_bar_stream\u001b[39m=\u001b[39;49m\u001b[39mNone\u001b[39;49;00m)\n",
      "\u001b[1;31mTypeError\u001b[0m: geneticalgorithm2.run() got multiple values for argument 'progress_bar_stream'"
     ]
    }
   ],
   "source": [
    "\n",
    "# Run genetic algorithm\n",
    "best_chromosome, best_fitness = model_ga.run(X_train, y_train, np.all(y_train == 1), progress_bar_stream=None)\n",
    "\n"
   ]
  },
  {
   "cell_type": "code",
   "execution_count": null,
   "metadata": {},
   "outputs": [],
   "source": [
    "# Get best feature set\n",
    "best_features = [i for i, x in enumerate(model_ga.best_variable) if x == 1]\n",
    "X_train_subset = X_train[:, best_features]\n",
    "X_test_subset = X_test[:, best_features]\n",
    "\n"
   ]
  },
  {
   "cell_type": "code",
   "execution_count": null,
   "metadata": {},
   "outputs": [],
   "source": [
    "# Reshape data to match LSTM input shape\n",
    "X_train_subset = X_train_subset.reshape((X_train_subset.shape[0], 1, X_train_subset.shape[1]))\n",
    "X_test_subset = X_test_subset.reshape((X_test_subset.shape[0], 1, X_test_subset.shape[1]))\n"
   ]
  },
  {
   "cell_type": "code",
   "execution_count": null,
   "metadata": {},
   "outputs": [],
   "source": [
    "\n",
    "# Create and fit LSTM model\n",
    "model = create_model(X_train_subset.shape[2])\n",
    "model.fit(X_train_subset, y_train, epochs=10, batch_size=32, verbose=1)\n",
    "\n"
   ]
  },
  {
   "cell_type": "code",
   "execution_count": null,
   "metadata": {},
   "outputs": [],
   "source": [
    "# Make predictions and calculate accuracy\n",
    "y_pred = model.predict_classes(X_test_subset)\n",
    "accuracy = accuracy_score(y_test, y_pred)\n",
    "print('Best feature set:', best_features)"
   ]
  },
  {
   "cell_type": "code",
   "execution_count": null,
   "metadata": {},
   "outputs": [],
   "source": [
    "# Get the confusion matrix\n",
    "cm = confusion_matrix(y_test, y_pred)\n",
    "\n",
    "# Plot the confusion matrix\n",
    "sns.heatmap(cm, annot=True, cmap='Blues')\n",
    "plt.title('Confusion Matrix')\n",
    "plt.xlabel('Predicted Labels')\n",
    "plt.ylabel('True Labels')\n",
    "plt.show()\n"
   ]
  }
 ],
 "metadata": {
  "kernelspec": {
   "display_name": "final_project",
   "language": "python",
   "name": "python3"
  },
  "language_info": {
   "codemirror_mode": {
    "name": "ipython",
    "version": 3
   },
   "file_extension": ".py",
   "mimetype": "text/x-python",
   "name": "python",
   "nbconvert_exporter": "python",
   "pygments_lexer": "ipython3",
   "version": "3.10.10"
  },
  "orig_nbformat": 4
 },
 "nbformat": 4,
 "nbformat_minor": 2
}
