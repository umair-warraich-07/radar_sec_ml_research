{
 "cells": [
  {
   "attachments": {},
   "cell_type": "markdown",
   "id": "30576c4a",
   "metadata": {},
   "source": [
    "lstm model training"
   ]
  },
  {
   "cell_type": "code",
   "execution_count": 12,
   "id": "dbbee4c4",
   "metadata": {},
   "outputs": [],
   "source": [
    "import pandas as pd\n",
    "import numpy as np\n",
    "from sklearn.feature_selection import SelectKBest\n",
    "from sklearn.feature_selection import f_regression\n",
    "from keras.preprocessing.sequence import TimeseriesGenerator"
   ]
  },
  {
   "cell_type": "code",
   "execution_count": 2,
   "id": "b4caa40f",
   "metadata": {},
   "outputs": [],
   "source": [
    "dataset = pd.read_csv('complete_dataset.csv')"
   ]
  },
  {
   "cell_type": "code",
   "execution_count": 3,
   "id": "901845b4",
   "metadata": {},
   "outputs": [
    {
     "name": "stdout",
     "output_type": "stream",
     "text": [
      "<class 'pandas.core.frame.DataFrame'>\n",
      "RangeIndex: 7875620 entries, 0 to 7875619\n",
      "Data columns (total 79 columns):\n",
      " #   Column             Dtype  \n",
      "---  ------             -----  \n",
      " 0   Dst Port           int64  \n",
      " 1   Timestamp          object \n",
      " 2   Flow Duration      int64  \n",
      " 3   Tot Fwd Pkts       int64  \n",
      " 4   Tot Bwd Pkts       int64  \n",
      " 5   TotLen Fwd Pkts    int64  \n",
      " 6   TotLen Bwd Pkts    float64\n",
      " 7   Fwd Pkt Len Max    int64  \n",
      " 8   Fwd Pkt Len Min    int64  \n",
      " 9   Fwd Pkt Len Mean   float64\n",
      " 10  Fwd Pkt Len Std    float64\n",
      " 11  Bwd Pkt Len Max    int64  \n",
      " 12  Bwd Pkt Len Min    int64  \n",
      " 13  Bwd Pkt Len Mean   float64\n",
      " 14  Bwd Pkt Len Std    float64\n",
      " 15  Flow IAT Mean      float64\n",
      " 16  Flow IAT Std       float64\n",
      " 17  Flow IAT Max       float64\n",
      " 18  Flow IAT Min       float64\n",
      " 19  Fwd IAT Tot        float64\n",
      " 20  Fwd IAT Mean       float64\n",
      " 21  Fwd IAT Std        float64\n",
      " 22  Fwd IAT Max        float64\n",
      " 23  Fwd IAT Min        float64\n",
      " 24  Bwd IAT Tot        float64\n",
      " 25  Bwd IAT Mean       float64\n",
      " 26  Bwd IAT Std        float64\n",
      " 27  Bwd IAT Max        float64\n",
      " 28  Bwd IAT Min        float64\n",
      " 29  Fwd PSH Flags      int64  \n",
      " 30  Bwd PSH Flags      int64  \n",
      " 31  Fwd URG Flags      int64  \n",
      " 32  Bwd URG Flags      int64  \n",
      " 33  Fwd Header Len     int64  \n",
      " 34  Bwd Header Len     int64  \n",
      " 35  Fwd Pkts/s         float64\n",
      " 36  Bwd Pkts/s         float64\n",
      " 37  Pkt Len Min        int64  \n",
      " 38  Pkt Len Max        int64  \n",
      " 39  Pkt Len Mean       float64\n",
      " 40  Pkt Len Std        float64\n",
      " 41  Pkt Len Var        float64\n",
      " 42  FIN Flag Cnt       int64  \n",
      " 43  SYN Flag Cnt       int64  \n",
      " 44  RST Flag Cnt       int64  \n",
      " 45  PSH Flag Cnt       int64  \n",
      " 46  ACK Flag Cnt       int64  \n",
      " 47  URG Flag Cnt       int64  \n",
      " 48  CWE Flag Count     int64  \n",
      " 49  ECE Flag Cnt       int64  \n",
      " 50  Down/Up Ratio      int64  \n",
      " 51  Pkt Size Avg       float64\n",
      " 52  Fwd Seg Size Avg   float64\n",
      " 53  Bwd Seg Size Avg   float64\n",
      " 54  Fwd Byts/b Avg     int64  \n",
      " 55  Fwd Pkts/b Avg     int64  \n",
      " 56  Fwd Blk Rate Avg   int64  \n",
      " 57  Bwd Byts/b Avg     int64  \n",
      " 58  Bwd Pkts/b Avg     int64  \n",
      " 59  Bwd Blk Rate Avg   int64  \n",
      " 60  Subflow Fwd Pkts   int64  \n",
      " 61  Subflow Fwd Byts   int64  \n",
      " 62  Subflow Bwd Pkts   int64  \n",
      " 63  Subflow Bwd Byts   int64  \n",
      " 64  Init Fwd Win Byts  int64  \n",
      " 65  Init Bwd Win Byts  int64  \n",
      " 66  Fwd Act Data Pkts  int64  \n",
      " 67  Fwd Seg Size Min   int64  \n",
      " 68  Active Mean        float64\n",
      " 69  Active Std         float64\n",
      " 70  Active Max         float64\n",
      " 71  Active Min         float64\n",
      " 72  Idle Mean          float64\n",
      " 73  Idle Std           float64\n",
      " 74  Idle Max           float64\n",
      " 75  Idle Min           float64\n",
      " 76  Protocol_17        int64  \n",
      " 77  Protocol_6         int64  \n",
      " 78  Label              int64  \n",
      "dtypes: float64(35), int64(43), object(1)\n",
      "memory usage: 4.6+ GB\n"
     ]
    }
   ],
   "source": [
    "dataset.info()"
   ]
  },
  {
   "cell_type": "code",
   "execution_count": 18,
   "id": "f00c4cc9",
   "metadata": {},
   "outputs": [],
   "source": [
    "X = dataset.drop('Label', axis=1)\n",
    "X=dataset.drop(\"Timestamp\",axis=1)\n",
    "y = dataset['Label']"
   ]
  },
  {
   "cell_type": "code",
   "execution_count": 19,
   "id": "c42a8e14",
   "metadata": {},
   "outputs": [],
   "source": [
    "# Use the SelectKBest function from scikit-learn to select the top k features based on the f_regression method\n",
    "k = 30 # number of top features to select\n",
    "selector = SelectKBest(score_func=f_regression, k=k)\n",
    "X_new = selector.fit_transform(X, y)"
   ]
  },
  {
   "cell_type": "code",
   "execution_count": 20,
   "id": "728d25f1",
   "metadata": {},
   "outputs": [
    {
     "name": "stdout",
     "output_type": "stream",
     "text": [
      "SelectKBest(k=30, score_func=<function f_regression at 0x000002222AB5D360>)\n"
     ]
    }
   ],
   "source": [
    "generator = TimeseriesGenerator(X_new, y, length=5, batch_size=32)\n",
    "print(selector)"
   ]
  },
  {
   "cell_type": "code",
   "execution_count": 21,
   "id": "e8e49fc9",
   "metadata": {},
   "outputs": [
    {
     "name": "stdout",
     "output_type": "stream",
     "text": [
      "Selected features: [ 0  6  7  8  9 10 11 12 13 23 25 26 28 35 36 37 38 39 42 45 49 50 51 52\n",
      " 63 64 66 75 76 77]\n"
     ]
    }
   ],
   "source": [
    "mask = selector.get_support()\n",
    "selected_features = np.arange(len(mask))[mask]\n",
    "print(\"Selected features:\", selected_features)"
   ]
  },
  {
   "cell_type": "code",
   "execution_count": 22,
   "id": "6514444c",
   "metadata": {},
   "outputs": [
    {
     "name": "stdout",
     "output_type": "stream",
     "text": [
      "Selected feature names: ['Dst Port', 'Fwd Pkt Len Max', 'Fwd Pkt Len Min', 'Fwd Pkt Len Mean', 'Fwd Pkt Len Std', 'Bwd Pkt Len Max', 'Bwd Pkt Len Min', 'Bwd Pkt Len Mean', 'Bwd Pkt Len Std', 'Bwd IAT Tot', 'Bwd IAT Std', 'Bwd IAT Max', 'Fwd PSH Flags', 'Bwd Pkts/s', 'Pkt Len Min', 'Pkt Len Max', 'Pkt Len Mean', 'Pkt Len Std', 'SYN Flag Cnt', 'ACK Flag Cnt', 'Down/Up Ratio', 'Pkt Size Avg', 'Fwd Seg Size Avg', 'Bwd Seg Size Avg', 'Init Fwd Win Byts', 'Init Bwd Win Byts', 'Fwd Seg Size Min', 'Protocol_17', 'Protocol_6', 'Label']\n"
     ]
    }
   ],
   "source": [
    "feature_names = np.array(X.columns)\n",
    "selected_feature_names = [feature_names[i] for i in selected_features]\n",
    "print(\"Selected feature names:\", selected_feature_names)"
   ]
  }
 ],
 "metadata": {
  "kernelspec": {
   "display_name": "Python 3 (ipykernel)",
   "language": "python",
   "name": "python3"
  },
  "language_info": {
   "codemirror_mode": {
    "name": "ipython",
    "version": 3
   },
   "file_extension": ".py",
   "mimetype": "text/x-python",
   "name": "python",
   "nbconvert_exporter": "python",
   "pygments_lexer": "ipython3",
   "version": "3.10.9"
  }
 },
 "nbformat": 4,
 "nbformat_minor": 5
}
